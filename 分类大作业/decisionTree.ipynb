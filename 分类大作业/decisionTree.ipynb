{
 "cells": [
  {
   "cell_type": "markdown",
   "metadata": {},
   "source": [
    "#决策树分类"
   ]
  },
  {
   "cell_type": "markdown",
   "metadata": {},
   "source": [
    "##读取数据"
   ]
  },
  {
   "cell_type": "code",
   "execution_count": 1,
   "metadata": {},
   "outputs": [],
   "source": [
    "import pandas as pd\n",
    "data = pd.read_csv('dota2Train.csv', header=None)\n",
    "x = data.iloc[:,2:].values\n",
    "y = data.iloc[:,0].values"
   ]
  },
  {
   "cell_type": "code",
   "execution_count": 2,
   "metadata": {},
   "outputs": [
    {
     "data": {
      "text/plain": [
       "(92650, 115)"
      ]
     },
     "execution_count": 2,
     "metadata": {},
     "output_type": "execute_result"
    }
   ],
   "source": [
    "x.shape"
   ]
  },
  {
   "cell_type": "code",
   "execution_count": 3,
   "metadata": {},
   "outputs": [
    {
     "data": {
      "text/plain": [
       "(92650,)"
      ]
     },
     "execution_count": 3,
     "metadata": {},
     "output_type": "execute_result"
    }
   ],
   "source": [
    "y.shape"
   ]
  },
  {
   "cell_type": "code",
   "execution_count": 4,
   "metadata": {},
   "outputs": [
    {
     "data": {
      "text/plain": [
       "DecisionTreeClassifier(max_depth=7)"
      ]
     },
     "execution_count": 4,
     "metadata": {},
     "output_type": "execute_result"
    }
   ],
   "source": [
    "from sklearn.tree import DecisionTreeClassifier\n",
    "clf = DecisionTreeClassifier(max_depth=7)\n",
    "clf.fit(x,y)"
   ]
  },
  {
   "cell_type": "code",
   "execution_count": 5,
   "metadata": {},
   "outputs": [],
   "source": [
    "feature_names = [\"game mode\",\"game type\"]\n",
    "for i in range(1,114):\n",
    "    feature_names.append(str(i))\n",
    "target_names = [\"loss\",\"win\"]"
   ]
  },
  {
   "cell_type": "markdown",
   "metadata": {},
   "source": [
    "##决策树可视化"
   ]
  },
  {
   "cell_type": "code",
   "execution_count": 6,
   "metadata": {},
   "outputs": [
    {
     "data": {
      "text/plain": [
       "'decisionTree.pdf'"
      ]
     },
     "execution_count": 6,
     "metadata": {},
     "output_type": "execute_result"
    }
   ],
   "source": [
    "import graphviz\n",
    "from sklearn import tree\n",
    "import os\n",
    "os.environ[\"PATH\"] += os.pathsep + 'C:\\\\Program Files (x86)\\\\graphviz-2.38\\\\bin'\n",
    "\n",
    "dot_data = tree.export_graphviz(clf,out_file=None,feature_names=feature_names,class_names=target_names,filled=True,rounded=True,special_characters=True)\n",
    "graph = graphviz.Source(dot_data)\n",
    "graph.render(\"decisionTree\",view=True)"
   ]
  },
  {
   "cell_type": "markdown",
   "metadata": {},
   "source": [
    "##各属性重要性可视化"
   ]
  },
  {
   "cell_type": "code",
   "execution_count": 7,
   "metadata": {},
   "outputs": [],
   "source": [
    "import numpy as np\n",
    "y_importances = clf.feature_importances_\n",
    "x_importances = feature_names\n",
    "y_pos = np.arange(len(x_importances))"
   ]
  },
  {
   "cell_type": "code",
   "execution_count": 8,
   "metadata": {},
   "outputs": [],
   "source": [
    "import matplotlib.pyplot as plt\n",
    "\n",
    "def draw_bar(flag,y_importances,x_importances,y_pos):\n",
    "    if flag:\n",
    "        num = 67\n",
    "        y_importances = y_importances[:num]\n",
    "        x_importances = x_importances[:num]\n",
    "        y_pos = y_pos[:num]\n",
    "    else:\n",
    "        num = 67\n",
    "        y_importances = y_importances[num:]\n",
    "        x_importances = x_importances[num:]\n",
    "        y_pos = y_pos[:len(x_importances)]\n",
    "    plt.figure(figsize=(20,5))\n",
    "    plt.bar(y_pos, y_importances, width=0.4, align='center', alpha=0.4)\n",
    "    plt.xticks(y_pos, x_importances)\n",
    "    plt.ylabel('Importances')\n",
    "    plt.ylim(0,0.1)\n",
    "    plt.title('Features Importances')\n",
    "    plt.show()"
   ]
  },
  {
   "cell_type": "code",
   "execution_count": 9,
   "metadata": {},
   "outputs": [
    {
     "data": {
      "image/png": "[encoded data removed]",
      "text/plain": [
       "<Figure size 1440x360 with 1 Axes>"
      ]
     },
     "metadata": {
      "needs_background": "light"
     },
     "output_type": "display_data"
    }
   ],
   "source": [
    "draw_bar(1,y_importances,x_importances,y_pos)"
   ]
  },
  {
   "cell_type": "code",
   "execution_count": 10,
   "metadata": {},
   "outputs": [
    {
     "data": {
      "image/png": "[encoded data removed]",
      "text/plain": [
       "<Figure size 1440x360 with 1 Axes>"
      ]
     },
     "metadata": {
      "needs_background": "light"
     },
     "output_type": "display_data"
    }
   ],
   "source": [
    "draw_bar(0,y_importances,x_importances,y_pos)"
   ]
  },
  {
   "cell_type": "markdown",
   "metadata": {},
   "source": [
    "##各英雄胜率可视化"
   ]
  },
  {
   "cell_type": "code",
   "execution_count": 11,
   "metadata": {},
   "outputs": [],
   "source": [
    "winrate = []\n",
    "for i in range(2,115):\n",
    "    # 对方选，输了\n",
    "    a = np.sum(np.multiply(x[:,i]==-1,y==-1))\n",
    "    # 对方选，赢了\n",
    "    b = np.sum(np.multiply(x[:,i]==-1,y==1))\n",
    "    # 自己选，输了\n",
    "    c = np.sum(np.multiply(x[:,i]==1,y==-1))\n",
    "    # 自己选，赢了\n",
    "    d = np.sum(np.multiply(x[:,i]==1,y==1))\n",
    "    if (a+b+c+d) == 0:\n",
    "        winrate.append(0)\n",
    "    else:\n",
    "        winrate.append((b+d)/(a+b+c+d))"
   ]
  },
  {
   "cell_type": "code",
   "execution_count": 12,
   "metadata": {},
   "outputs": [],
   "source": [
    "def draw_bar2(flag,shenglv):\n",
    "    if flag:\n",
    "        num = 65\n",
    "        x_importances = []\n",
    "        for i in range(1,num+1):\n",
    "            x_importances.append(str(i))\n",
    "        y_importances = shenglv[:num]\n",
    "        y_pos = np.arange(len(x_importances))\n",
    "    else:\n",
    "        num = 65\n",
    "        x_importances = []\n",
    "        for i in range(num+1,114):\n",
    "            x_importances.append(str(i))\n",
    "        y_importances = shenglv[num:]\n",
    "        y_pos = np.arange(len(x_importances))\n",
    "    plt.figure(figsize=(20,5))\n",
    "    plt.bar(y_pos, y_importances, width=0.4, align='center', alpha=0.4)\n",
    "    plt.xticks(y_pos, x_importances)\n",
    "    plt.ylabel('Importances')\n",
    "    # plt.ylim(0,0.1)\n",
    "    plt.title('Features Importances')\n",
    "    plt.show()"
   ]
  },
  {
   "cell_type": "code",
   "execution_count": 13,
   "metadata": {},
   "outputs": [
    {
     "data": {
      "image/png": "[encoded data removed]",
      "text/plain": [
       "<Figure size 1440x360 with 1 Axes>"
      ]
     },
     "metadata": {
      "needs_background": "light"
     },
     "output_type": "display_data"
    }
   ],
   "source": [
    "draw_bar2(1,winrate)"
   ]
  },
  {
   "cell_type": "code",
   "execution_count": 14,
   "metadata": {},
   "outputs": [
    {
     "data": {
      "image/png": "[encoded data removed]",
      "text/plain": [
       "<Figure size 1440x360 with 1 Axes>"
      ]
     },
     "metadata": {
      "needs_background": "light"
     },
     "output_type": "display_data"
    }
   ],
   "source": [
    "draw_bar2(0,winrate)"
   ]
  },
  {
   "cell_type": "raw",
   "metadata": {},
   "source": [
    "##分类效果展示"
   ]
  },
  {
   "cell_type": "code",
   "execution_count": 15,
   "metadata": {},
   "outputs": [],
   "source": [
    "import pandas as pd\n",
    "data = pd.read_csv(\"dota2Test.csv\")\n",
    "x2 = data.iloc[:,2:].values\n",
    "y2 = data.iloc[:,0].values"
   ]
  },
  {
   "cell_type": "code",
   "execution_count": 16,
   "metadata": {},
   "outputs": [
    {
     "data": {
      "text/plain": [
       "0.5489167395317206"
      ]
     },
     "execution_count": 16,
     "metadata": {},
     "output_type": "execute_result"
    }
   ],
   "source": [
    "clf.score(x2,y2)"
   ]
  },
  {
   "cell_type": "code",
   "execution_count": 17,
   "metadata": {},
   "outputs": [],
   "source": [
    "ybar = clf.predict(x2)"
   ]
  },
  {
   "cell_type": "code",
   "execution_count": 18,
   "metadata": {},
   "outputs": [
    {
     "name": "stdout",
     "output_type": "stream",
     "text": [
      "准确率： 0.5489167395317206\n",
      "召回率： 0.8326063249727372\n",
      "F1 score： 0.663672582397682\n",
      "precision: 0.5444571103137027\n"
     ]
    }
   ],
   "source": [
    "from sklearn.metrics import accuracy_score,recall_score,f1_score,precision_score\n",
    "\n",
    "print(\"准确率：\",accuracy_score(y2,ybar))\n",
    "print(\"召回率：\",recall_score(y2,ybar))\n",
    "print(\"F1 score：\",f1_score(y2,ybar))\n",
    "print(\"precision:\",precision_score(y2, ybar, average='macro', pos_label=1))"
   ]
  }
 ],
 "metadata": {
  "kernelspec": {
   "display_name": "Python 3",
   "language": "python",
   "name": "python3"
  },
  "language_info": {
   "codemirror_mode": {
    "name": "ipython",
    "version": 3
   },
   "file_extension": ".py",
   "mimetype": "text/x-python",
   "name": "python",
   "nbconvert_exporter": "python",
   "pygments_lexer": "ipython3",
   "version": "3.8.2"
  }
 },
 "nbformat": 4,
 "nbformat_minor": 4
}
